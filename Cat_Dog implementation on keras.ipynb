{
 "cells": [
  {
   "cell_type": "code",
   "execution_count": 1,
   "metadata": {
    "collapsed": false
   },
   "outputs": [
    {
     "name": "stderr",
     "output_type": "stream",
     "text": [
      "Using TensorFlow backend.\n"
     ]
    }
   ],
   "source": [
    "import tensorflow as tf\n",
    "import numpy as np\n",
    "import cv2\n",
    "import os\n",
    "from tqdm import tqdm\n",
    "from random import shuffle\n",
    "import matplotlib.pyplot as plt\n",
    "import keras\n",
    "from keras.models import Sequential\n",
    "from keras.layers import Dense,Conv2D,MaxPooling2D,Dense,Dropout,Flatten\n",
    "from keras import optimizers\n",
    "from keras.models import load_model"
   ]
  },
  {
   "cell_type": "code",
   "execution_count": 2,
   "metadata": {
    "collapsed": true
   },
   "outputs": [],
   "source": [
    "TRAIN_DIR='/home/rahulchakwate/My_tensorflow/DataSets/cats_and_dogs_2/train'\n",
    "IMG_SIZE=50\n",
    "LR=1e-3\n",
    "MODEL_NAME='cat-dog-convnet'\n",
    "\n",
    "save_dir = os.path.join(os.getcwd(), 'saved_models')\n",
    "model_name = 'keras_cifar10_trained_model.h5'\n",
    "\n",
    "def create_label(image_name):\n",
    "    word_label=image_name.split('.')[-3]\n",
    "    if word_label=='cat':\n",
    "        return np.array([1,0])\n",
    "    elif word_label=='dog':\n",
    "        return np.array([0,1])\n"
   ]
  },
  {
   "cell_type": "code",
   "execution_count": 3,
   "metadata": {
    "collapsed": true
   },
   "outputs": [],
   "source": [
    "def create_train_data():\n",
    "    training_data=[]\n",
    "    for img in tqdm(os.listdir(TRAIN_DIR)):\n",
    "        path=os.path.join(TRAIN_DIR,img)\n",
    "        img_data=cv2.imread(path,cv2.IMREAD_GRAYSCALE)\n",
    "        img_data=cv2.resize(img_data,(IMG_SIZE,IMG_SIZE))\n",
    "        training_data.append([np.array(img_data),create_label(img)])\n",
    "    shuffle(training_data)\n",
    "    np.save('train_data.npy',training_data)\n",
    "    return training_data\n",
    "\n"
   ]
  },
  {
   "cell_type": "code",
   "execution_count": null,
   "metadata": {
    "collapsed": false
   },
   "outputs": [
    {
     "name": "stderr",
     "output_type": "stream",
     "text": [
      " 10%|█         | 2511/25000 [00:36<05:22, 69.65it/s]"
     ]
    }
   ],
   "source": [
    "train_data=create_train_data()"
   ]
  },
  {
   "cell_type": "code",
   "execution_count": 10,
   "metadata": {
    "collapsed": false
   },
   "outputs": [
    {
     "name": "stdout",
     "output_type": "stream",
     "text": [
      "(1001, 50, 50, 1)\n",
      "(1001, 2)\n"
     ]
    }
   ],
   "source": [
    "train=train_data\n",
    "X_train=np.array([i[0] for i in train]).reshape(-1,IMG_SIZE,IMG_SIZE,1)\n",
    "y_train=np.array([i[1] for i in train])\n",
    "print(X_train.shape)\n",
    "print(y_train.shape)"
   ]
  },
  {
   "cell_type": "code",
   "execution_count": 11,
   "metadata": {
    "collapsed": false
   },
   "outputs": [
    {
     "name": "stdout",
     "output_type": "stream",
     "text": [
      "Train on 800 samples, validate on 201 samples\n",
      "Epoch 1/10\n",
      "800/800 [==============================] - 17s 21ms/step - loss: 0.9869 - acc: 0.5162 - val_loss: 0.6934 - val_acc: 0.5373\n",
      "Epoch 2/10\n",
      "800/800 [==============================] - 16s 20ms/step - loss: 0.7102 - acc: 0.5450 - val_loss: 0.6930 - val_acc: 0.5522\n",
      "Epoch 3/10\n",
      "800/800 [==============================] - 16s 20ms/step - loss: 0.6994 - acc: 0.5400 - val_loss: 0.6970 - val_acc: 0.4776\n",
      "Epoch 4/10\n",
      "800/800 [==============================] - 17s 21ms/step - loss: 0.6889 - acc: 0.5413 - val_loss: 0.6792 - val_acc: 0.5423\n",
      "Epoch 5/10\n",
      "800/800 [==============================] - 16s 21ms/step - loss: 0.6734 - acc: 0.5700 - val_loss: 0.6775 - val_acc: 0.5473\n",
      "Epoch 6/10\n",
      "800/800 [==============================] - 16s 20ms/step - loss: 0.6746 - acc: 0.5825 - val_loss: 0.6880 - val_acc: 0.5423\n",
      "Epoch 7/10\n",
      "800/800 [==============================] - 17s 22ms/step - loss: 0.6689 - acc: 0.5725 - val_loss: 0.6770 - val_acc: 0.5721\n",
      "Epoch 8/10\n",
      "800/800 [==============================] - 16s 20ms/step - loss: 0.6519 - acc: 0.5713 - val_loss: 0.7028 - val_acc: 0.5124\n",
      "Epoch 9/10\n",
      "800/800 [==============================] - 17s 21ms/step - loss: 0.6559 - acc: 0.5850 - val_loss: 0.6828 - val_acc: 0.5721\n",
      "Epoch 10/10\n",
      "800/800 [==============================] - 16s 20ms/step - loss: 0.6345 - acc: 0.6112 - val_loss: 0.6891 - val_acc: 0.5871\n"
     ]
    }
   ],
   "source": [
    "model=Sequential()\n",
    "model.add(Conv2D(32,(3,3),activation='relu',kernel_initializer='random_normal',input_shape=(50,50,1)))\n",
    "model.add(MaxPooling2D(pool_size=(2, 2)))\n",
    "model.add(Conv2D(64,(3,3),activation='relu'))\n",
    "model.add(Conv2D(128,(3,3),activation='relu'))\n",
    "model.add(Conv2D(64,(3,3),activation='relu'))\n",
    "model.add(Conv2D(32,(3,3),activation='relu'))\n",
    "model.add(MaxPooling2D(pool_size=(2, 2)))\n",
    "model.add(Flatten())\n",
    "model.add(Dense(1024,activation='relu'))\n",
    "model.add(Dropout(0.8))\n",
    "model.add(Dense(2,activation='softmax'))\n",
    "adam=optimizers.Adam(lr=0.0001)\n",
    "model.compile(optimizer=adam,loss='categorical_crossentropy',metrics=['accuracy'])\n",
    "history=model.fit(x=X_train,y=y_train,batch_size=4,epochs=10,verbose=1,validation_split=0.2)"
   ]
  },
  {
   "cell_type": "code",
   "execution_count": 12,
   "metadata": {
    "collapsed": false
   },
   "outputs": [
    {
     "name": "stdout",
     "output_type": "stream",
     "text": [
      "Saved trained model at /home/rahulchakwate/My_tensorflow/saved_models/keras_cifar10_trained_model.h5 \n"
     ]
    }
   ],
   "source": [
    "# Save model and weights\n",
    "if not os.path.isdir(save_dir):\n",
    "     os.makedirs(save_dir)\n",
    "model_path = os.path.join(save_dir, model_name)\n",
    "model.save(model_path)\n",
    "print('Saved trained model at %s ' % model_path)"
   ]
  },
  {
   "cell_type": "code",
   "execution_count": 14,
   "metadata": {
    "collapsed": true
   },
   "outputs": [],
   "source": [
    "model2=load_model(model_path)"
   ]
  },
  {
   "cell_type": "code",
   "execution_count": 15,
   "metadata": {
    "collapsed": false
   },
   "outputs": [
    {
     "name": "stdout",
     "output_type": "stream",
     "text": [
      "Train on 800 samples, validate on 201 samples\n",
      "Epoch 1/10\n",
      "800/800 [==============================] - 14s 17ms/step - loss: 0.6158 - acc: 0.6600 - val_loss: 0.6821 - val_acc: 0.5771\n",
      "Epoch 2/10\n",
      "800/800 [==============================] - 14s 17ms/step - loss: 0.6015 - acc: 0.6637 - val_loss: 0.7176 - val_acc: 0.5871\n",
      "Epoch 3/10\n",
      "800/800 [==============================] - 14s 18ms/step - loss: 0.5697 - acc: 0.7125 - val_loss: 0.7779 - val_acc: 0.5721\n",
      "Epoch 4/10\n",
      "800/800 [==============================] - 15s 19ms/step - loss: 0.5200 - acc: 0.7212 - val_loss: 0.7693 - val_acc: 0.5821\n",
      "Epoch 5/10\n",
      "800/800 [==============================] - 16s 20ms/step - loss: 0.4840 - acc: 0.7575 - val_loss: 0.7911 - val_acc: 0.5920\n",
      "Epoch 6/10\n",
      "800/800 [==============================] - 16s 21ms/step - loss: 0.4529 - acc: 0.7700 - val_loss: 0.8135 - val_acc: 0.6020\n",
      "Epoch 7/10\n",
      "800/800 [==============================] - 16s 21ms/step - loss: 0.4145 - acc: 0.7913 - val_loss: 0.8889 - val_acc: 0.6169\n",
      "Epoch 8/10\n",
      "800/800 [==============================] - 15s 19ms/step - loss: 0.3765 - acc: 0.8137 - val_loss: 0.9554 - val_acc: 0.6269\n",
      "Epoch 9/10\n",
      "800/800 [==============================] - 15s 18ms/step - loss: 0.3563 - acc: 0.8288 - val_loss: 0.8332 - val_acc: 0.5423\n",
      "Epoch 10/10\n",
      "800/800 [==============================] - 15s 18ms/step - loss: 0.3617 - acc: 0.8337 - val_loss: 0.8912 - val_acc: 0.6368\n"
     ]
    }
   ],
   "source": [
    "history2=model2.fit(x=X_train,y=y_train,batch_size=4,epochs=10,verbose=1,validation_split=0.2)"
   ]
  },
  {
   "cell_type": "code",
   "execution_count": 16,
   "metadata": {
    "collapsed": false
   },
   "outputs": [
    {
     "name": "stdout",
     "output_type": "stream",
     "text": [
      "Saved trained model at /home/rahulchakwate/My_tensorflow/saved_models/keras_cifar10_trained_model.h5 \n"
     ]
    }
   ],
   "source": [
    "# Save model and weights\n",
    "if not os.path.isdir(save_dir):\n",
    "     os.makedirs(save_dir)\n",
    "model_path = os.path.join(save_dir, model_name)\n",
    "model2.save(model_path)\n",
    "print('Saved trained model at %s ' % model_path)"
   ]
  },
  {
   "cell_type": "code",
   "execution_count": 17,
   "metadata": {
    "collapsed": true
   },
   "outputs": [],
   "source": [
    "model3=load_model(model_path)"
   ]
  },
  {
   "cell_type": "code",
   "execution_count": 18,
   "metadata": {
    "collapsed": true
   },
   "outputs": [],
   "source": [
    "adam=optimizers.Adam(lr=0.00001)\n",
    "model3.compile(optimizer=adam,loss='categorical_crossentropy',metrics=['accuracy'])"
   ]
  },
  {
   "cell_type": "code",
   "execution_count": 19,
   "metadata": {
    "collapsed": false
   },
   "outputs": [
    {
     "name": "stdout",
     "output_type": "stream",
     "text": [
      "Train on 800 samples, validate on 201 samples\n",
      "Epoch 1/5\n",
      "800/800 [==============================] - 14s 18ms/step - loss: 0.2684 - acc: 0.8962 - val_loss: 0.9796 - val_acc: 0.6617\n",
      "Epoch 2/5\n",
      "800/800 [==============================] - 14s 17ms/step - loss: 0.2621 - acc: 0.8975 - val_loss: 0.9953 - val_acc: 0.6318\n",
      "Epoch 3/5\n",
      "800/800 [==============================] - 14s 18ms/step - loss: 0.2473 - acc: 0.8962 - val_loss: 1.0255 - val_acc: 0.6418\n",
      "Epoch 4/5\n",
      "800/800 [==============================] - 15s 19ms/step - loss: 0.2378 - acc: 0.8975 - val_loss: 1.0628 - val_acc: 0.6418\n",
      "Epoch 5/5\n",
      "800/800 [==============================] - 15s 19ms/step - loss: 0.2433 - acc: 0.8962 - val_loss: 1.0373 - val_acc: 0.6318\n"
     ]
    }
   ],
   "source": [
    "history3=model3.fit(x=X_train,y=y_train,batch_size=4,epochs=5,verbose=1,validation_split=0.2)"
   ]
  },
  {
   "cell_type": "code",
   "execution_count": 45,
   "metadata": {
    "collapsed": false
   },
   "outputs": [
    {
     "name": "stdout",
     "output_type": "stream",
     "text": [
      "dict_keys(['val_loss', 'val_acc', 'acc', 'loss'])\n"
     ]
    }
   ],
   "source": [
    "print(history.history.keys())"
   ]
  },
  {
   "cell_type": "code",
   "execution_count": 57,
   "metadata": {
    "collapsed": false
   },
   "outputs": [
    {
     "data": {
      "image/png": "[encoded data removed]",
      "text/plain": [
       "<Figure size 432x288 with 1 Axes>"
      ]
     },
     "metadata": {},
     "output_type": "display_data"
    }
   ],
   "source": [
    "# summarize history for accuracy\n",
    "plt.plot(history.history['acc'])\n",
    "plt.plot(history.history['val_acc'])\n",
    "plt.title('model accuracy')\n",
    "plt.ylabel('accuracy')\n",
    "plt.xlabel('epoch')\n",
    "plt.legend(['train', 'val'], loc='upper left')\n",
    "plt.show()"
   ]
  },
  {
   "cell_type": "code",
   "execution_count": 58,
   "metadata": {
    "collapsed": false
   },
   "outputs": [
    {
     "data": {
      "image/png": "[encoded data removed]",
      "text/plain": [
       "<Figure size 432x288 with 1 Axes>"
      ]
     },
     "metadata": {},
     "output_type": "display_data"
    }
   ],
   "source": [
    "plt.plot(history.history['loss'])\n",
    "plt.plot(history.history['val_loss'])\n",
    "plt.title('model loss')\n",
    "plt.ylabel('loss')\n",
    "plt.xlabel('epoch')\n",
    "plt.legend(['train', 'val'], loc='upper left')\n",
    "plt.show()"
   ]
  },
  {
   "cell_type": "code",
   "execution_count": 49,
   "metadata": {
    "collapsed": false
   },
   "outputs": [
    {
     "data": {
      "text/plain": [
       "<keras.callbacks.TensorBoard at 0x7fbbc429f1d0>"
      ]
     },
     "execution_count": 49,
     "metadata": {},
     "output_type": "execute_result"
    }
   ],
   "source": [
    "keras.callbacks.TensorBoard(log_dir='/tmp/log')"
   ]
  },
  {
   "cell_type": "code",
   "execution_count": null,
   "metadata": {
    "collapsed": true
   },
   "outputs": [],
   "source": []
  }
 ],
 "metadata": {
  "anaconda-cloud": {},
  "kernelspec": {
   "display_name": "Python 3",
   "language": "python",
   "name": "python3"
  },
  "language_info": {
   "codemirror_mode": {
    "name": "ipython",
    "version": 3
   },
   "file_extension": ".py",
   "mimetype": "text/x-python",
   "name": "python",
   "nbconvert_exporter": "python",
   "pygments_lexer": "ipython3",
   "version": "3.5.2"
  }
 },
 "nbformat": 4,
 "nbformat_minor": 1
}
